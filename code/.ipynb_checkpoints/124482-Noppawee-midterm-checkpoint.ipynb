{
 "cells": [
  {
   "cell_type": "markdown",
   "metadata": {},
   "source": [
    "## Task 2 (1)\n",
    "print your student id, full and name below.\n",
    "\n",
    "<sub>Expected answer</sub>\n",
    "```\n",
    "st12xxxx\n",
    "Firstname Lastname\n",
    "```"
   ]
  },
  {
   "cell_type": "code",
   "execution_count": 1,
   "metadata": {},
   "outputs": [],
   "source": [
    "# Your code here"
   ]
  },
  {
   "cell_type": "markdown",
   "metadata": {},
   "source": [
    "## Task 3 (1)\n",
    "\n",
    "Continue from the Task 1, show your current version of numpy, pandas, and sklearn"
   ]
  },
  {
   "cell_type": "code",
   "execution_count": 2,
   "metadata": {},
   "outputs": [
    {
     "name": "stdout",
     "output_type": "stream",
     "text": [
      "     numpy version: 1.26.0\n",
      "    pandas version: 1.5.3\n",
      "   sklearn version: 1.3.1\n",
      "matplotlib version: 3.8.0\n"
     ]
    }
   ],
   "source": [
    "import numpy as np\n",
    "import pandas as pd\n",
    "import sklearn\n",
    "import matplotlib as mpl\n",
    "import matplotlib.pyplot as plt\n",
    "\n",
    "print(f\"     numpy version: {np.__version__}\")\n",
    "print(f\"    pandas version: {pd.__version__}\")\n",
    "print(f\"   sklearn version: {sklearn.__version__}\")\n",
    "print(f\"matplotlib version: {mpl.__version__}\")"
   ]
  },
  {
   "cell_type": "markdown",
   "metadata": {},
   "source": [
    "## Task 4 (1)\n",
    "\n",
    "Print a url to your `ait-ml-2023-midterm` image from `DockerHub`.\n",
    "\n",
    "<sub>Expected answer</sub>\n",
    "```\n",
    "https://hub.docker.com/repository/xxxxxxxxxxxx\n",
    "```"
   ]
  },
  {
   "cell_type": "markdown",
   "metadata": {},
   "source": []
  },
  {
   "cell_type": "markdown",
   "metadata": {},
   "source": [
    "## Task 5 (1)\n",
    "So far so good?\n",
    "\n",
    "In the folder `dataset`, there is a file `data.csv`.\n",
    "Load the file into a `Pandas` dataframe.\n",
    "\n",
    "Take a look at the data.\n",
    "It supposes to **4** columns [y,x1,x2,x3] with 200 rows."
   ]
  },
  {
   "cell_type": "code",
   "execution_count": 3,
   "metadata": {},
   "outputs": [],
   "source": [
    "df = pd.read_csv('data.csv')"
   ]
  },
  {
   "cell_type": "code",
   "execution_count": 4,
   "metadata": {},
   "outputs": [
    {
     "data": {
      "text/html": [
       "<div>\n",
       "<style scoped>\n",
       "    .dataframe tbody tr th:only-of-type {\n",
       "        vertical-align: middle;\n",
       "    }\n",
       "\n",
       "    .dataframe tbody tr th {\n",
       "        vertical-align: top;\n",
       "    }\n",
       "\n",
       "    .dataframe thead th {\n",
       "        text-align: right;\n",
       "    }\n",
       "</style>\n",
       "<table border=\"1\" class=\"dataframe\">\n",
       "  <thead>\n",
       "    <tr style=\"text-align: right;\">\n",
       "      <th></th>\n",
       "      <th>y</th>\n",
       "      <th>x1</th>\n",
       "      <th>x2</th>\n",
       "      <th>x3</th>\n",
       "    </tr>\n",
       "  </thead>\n",
       "  <tbody>\n",
       "    <tr>\n",
       "      <th>0</th>\n",
       "      <td>1</td>\n",
       "      <td>20.83</td>\n",
       "      <td>6.80</td>\n",
       "      <td>40</td>\n",
       "    </tr>\n",
       "    <tr>\n",
       "      <th>1</th>\n",
       "      <td>1</td>\n",
       "      <td>22.05</td>\n",
       "      <td>2.26</td>\n",
       "      <td>40</td>\n",
       "    </tr>\n",
       "    <tr>\n",
       "      <th>2</th>\n",
       "      <td>0</td>\n",
       "      <td>14.33</td>\n",
       "      <td>2.27</td>\n",
       "      <td>30</td>\n",
       "    </tr>\n",
       "    <tr>\n",
       "      <th>3</th>\n",
       "      <td>1</td>\n",
       "      <td>22.80</td>\n",
       "      <td>6.96</td>\n",
       "      <td>30</td>\n",
       "    </tr>\n",
       "    <tr>\n",
       "      <th>4</th>\n",
       "      <td>0</td>\n",
       "      <td>10.78</td>\n",
       "      <td>0.39</td>\n",
       "      <td>40</td>\n",
       "    </tr>\n",
       "  </tbody>\n",
       "</table>\n",
       "</div>"
      ],
      "text/plain": [
       "   y     x1    x2  x3\n",
       "0  1  20.83  6.80  40\n",
       "1  1  22.05  2.26  40\n",
       "2  0  14.33  2.27  30\n",
       "3  1  22.80  6.96  30\n",
       "4  0  10.78  0.39  40"
      ]
     },
     "execution_count": 4,
     "metadata": {},
     "output_type": "execute_result"
    }
   ],
   "source": [
    "df.head()"
   ]
  },
  {
   "cell_type": "code",
   "execution_count": 5,
   "metadata": {},
   "outputs": [
    {
     "data": {
      "text/plain": [
       "(200, 4)"
      ]
     },
     "execution_count": 5,
     "metadata": {},
     "output_type": "execute_result"
    }
   ],
   "source": [
    "df.shape"
   ]
  },
  {
   "cell_type": "code",
   "execution_count": 6,
   "metadata": {},
   "outputs": [
    {
     "name": "stdout",
     "output_type": "stream",
     "text": [
      "<class 'pandas.core.frame.DataFrame'>\n",
      "RangeIndex: 200 entries, 0 to 199\n",
      "Data columns (total 4 columns):\n",
      " #   Column  Non-Null Count  Dtype  \n",
      "---  ------  --------------  -----  \n",
      " 0   y       200 non-null    int64  \n",
      " 1   x1      200 non-null    float64\n",
      " 2   x2      200 non-null    float64\n",
      " 3   x3      200 non-null    int64  \n",
      "dtypes: float64(2), int64(2)\n",
      "memory usage: 6.4 KB\n"
     ]
    }
   ],
   "source": [
    "df.info()"
   ]
  },
  {
   "cell_type": "markdown",
   "metadata": {},
   "source": [
    "## Task 6 (1)\n",
    "\n",
    "Answer the following questions\n",
    "\n",
    "1. What is the range of each columns (min, max)?\n",
    "- Column y: (0,1)\n",
    "- Column x1: (7.68, 25.51)\n",
    "- Column x2: (0, 9.96)\n",
    "- Column x3: (10, 40)\n",
    "2. Based on the value of each columns, which one is Discrete and which one is Category?\n",
    "- y and x3 are category columns and x1 and x2 are continuous columns\n",
    "3. Based on the range of `y`, how many classes are there? and what are they?\n",
    "- there are 2 classes which are class 0 and class 1"
   ]
  },
  {
   "cell_type": "code",
   "execution_count": 7,
   "metadata": {},
   "outputs": [
    {
     "data": {
      "text/html": [
       "<div>\n",
       "<style scoped>\n",
       "    .dataframe tbody tr th:only-of-type {\n",
       "        vertical-align: middle;\n",
       "    }\n",
       "\n",
       "    .dataframe tbody tr th {\n",
       "        vertical-align: top;\n",
       "    }\n",
       "\n",
       "    .dataframe thead th {\n",
       "        text-align: right;\n",
       "    }\n",
       "</style>\n",
       "<table border=\"1\" class=\"dataframe\">\n",
       "  <thead>\n",
       "    <tr style=\"text-align: right;\">\n",
       "      <th></th>\n",
       "      <th>y</th>\n",
       "      <th>x1</th>\n",
       "      <th>x2</th>\n",
       "      <th>x3</th>\n",
       "    </tr>\n",
       "  </thead>\n",
       "  <tbody>\n",
       "    <tr>\n",
       "      <th>count</th>\n",
       "      <td>200.000000</td>\n",
       "      <td>200.000000</td>\n",
       "      <td>200.00000</td>\n",
       "      <td>200.000000</td>\n",
       "    </tr>\n",
       "    <tr>\n",
       "      <th>mean</th>\n",
       "      <td>0.500000</td>\n",
       "      <td>16.048350</td>\n",
       "      <td>5.25540</td>\n",
       "      <td>25.900000</td>\n",
       "    </tr>\n",
       "    <tr>\n",
       "      <th>std</th>\n",
       "      <td>0.501255</td>\n",
       "      <td>5.343838</td>\n",
       "      <td>3.00317</td>\n",
       "      <td>11.261622</td>\n",
       "    </tr>\n",
       "    <tr>\n",
       "      <th>min</th>\n",
       "      <td>0.000000</td>\n",
       "      <td>7.680000</td>\n",
       "      <td>0.00000</td>\n",
       "      <td>10.000000</td>\n",
       "    </tr>\n",
       "    <tr>\n",
       "      <th>25%</th>\n",
       "      <td>0.000000</td>\n",
       "      <td>11.535000</td>\n",
       "      <td>2.70750</td>\n",
       "      <td>20.000000</td>\n",
       "    </tr>\n",
       "    <tr>\n",
       "      <th>50%</th>\n",
       "      <td>0.500000</td>\n",
       "      <td>15.320000</td>\n",
       "      <td>5.34000</td>\n",
       "      <td>30.000000</td>\n",
       "    </tr>\n",
       "    <tr>\n",
       "      <th>75%</th>\n",
       "      <td>1.000000</td>\n",
       "      <td>20.490000</td>\n",
       "      <td>7.99500</td>\n",
       "      <td>40.000000</td>\n",
       "    </tr>\n",
       "    <tr>\n",
       "      <th>max</th>\n",
       "      <td>1.000000</td>\n",
       "      <td>25.510000</td>\n",
       "      <td>9.96000</td>\n",
       "      <td>40.000000</td>\n",
       "    </tr>\n",
       "  </tbody>\n",
       "</table>\n",
       "</div>"
      ],
      "text/plain": [
       "                y          x1         x2          x3\n",
       "count  200.000000  200.000000  200.00000  200.000000\n",
       "mean     0.500000   16.048350    5.25540   25.900000\n",
       "std      0.501255    5.343838    3.00317   11.261622\n",
       "min      0.000000    7.680000    0.00000   10.000000\n",
       "25%      0.000000   11.535000    2.70750   20.000000\n",
       "50%      0.500000   15.320000    5.34000   30.000000\n",
       "75%      1.000000   20.490000    7.99500   40.000000\n",
       "max      1.000000   25.510000    9.96000   40.000000"
      ]
     },
     "execution_count": 7,
     "metadata": {},
     "output_type": "execute_result"
    }
   ],
   "source": [
    "df.describe()"
   ]
  },
  {
   "cell_type": "code",
   "execution_count": 8,
   "metadata": {},
   "outputs": [
    {
     "data": {
      "text/plain": [
       "array([40, 30, 10, 20])"
      ]
     },
     "execution_count": 8,
     "metadata": {},
     "output_type": "execute_result"
    }
   ],
   "source": [
    "df['x3'].unique() "
   ]
  },
  {
   "cell_type": "code",
   "execution_count": 9,
   "metadata": {},
   "outputs": [
    {
     "data": {
      "text/plain": [
       "array([1, 0])"
      ]
     },
     "execution_count": 9,
     "metadata": {},
     "output_type": "execute_result"
    }
   ],
   "source": [
    "df['y'].unique() "
   ]
  },
  {
   "cell_type": "markdown",
   "metadata": {},
   "source": [
    "## Task 7 (1)\n",
    "\n",
    "Plot three scatter plots.\n",
    "- x1, x2 and color as y\n",
    "- x1, x3 and color as y\n",
    "- x2, x3 and color as y"
   ]
  },
  {
   "cell_type": "code",
   "execution_count": 10,
   "metadata": {},
   "outputs": [],
   "source": [
    "import seaborn as sns"
   ]
  },
  {
   "cell_type": "code",
   "execution_count": 11,
   "metadata": {},
   "outputs": [
    {
     "data": {
      "text/plain": [
       "<Axes: xlabel='x1', ylabel='x2'>"
      ]
     },
     "execution_count": 11,
     "metadata": {},
     "output_type": "execute_result"
    },
    {
     "data": {
      "image/png": "[encoded data removed]",
      "text/plain": [
       "<Figure size 640x480 with 1 Axes>"
      ]
     },
     "metadata": {},
     "output_type": "display_data"
    }
   ],
   "source": [
    "#x1, x2 and color as y\n",
    "sns.scatterplot(x = df['x1'], y = df['x2'], hue=df['y'])"
   ]
  },
  {
   "cell_type": "code",
   "execution_count": 12,
   "metadata": {},
   "outputs": [
    {
     "data": {
      "text/plain": [
       "<Axes: xlabel='x1', ylabel='x3'>"
      ]
     },
     "execution_count": 12,
     "metadata": {},
     "output_type": "execute_result"
    },
    {
     "data": {
      "image/png": "[encoded data removed]",
      "text/plain": [
       "<Figure size 640x480 with 1 Axes>"
      ]
     },
     "metadata": {},
     "output_type": "display_data"
    }
   ],
   "source": [
    "#x1, x3 and color as y\n",
    "sns.scatterplot(x = df['x1'], y = df['x3'], hue=df['y'])"
   ]
  },
  {
   "cell_type": "code",
   "execution_count": 13,
   "metadata": {},
   "outputs": [
    {
     "data": {
      "text/plain": [
       "<Axes: xlabel='x2', ylabel='x3'>"
      ]
     },
     "execution_count": 13,
     "metadata": {},
     "output_type": "execute_result"
    },
    {
     "data": {
      "image/png": "[encoded data removed]",
      "text/plain": [
       "<Figure size 640x480 with 1 Axes>"
      ]
     },
     "metadata": {},
     "output_type": "display_data"
    }
   ],
   "source": [
    "#x2, x3 and color as y\n",
    "sns.scatterplot(x = df['x2'], y = df['x3'], hue=df['y'])"
   ]
  },
  {
   "cell_type": "markdown",
   "metadata": {},
   "source": [
    "## Task 8 (10)\n",
    "\n",
    "Perform Exploratory Data Analysis (EDA) on the Dataset.\n",
    "\n",
    "At the end, report which feature and classifier is best. \n",
    "(explain as best as you can. short answer get 0.)\n"
   ]
  },
  {
   "cell_type": "code",
   "execution_count": 14,
   "metadata": {},
   "outputs": [],
   "source": [
    "# separate catgory and continuous columns\n",
    "cat_col = ['y','x3']\n",
    "con_col = ['x1','x2']"
   ]
  },
  {
   "cell_type": "code",
   "execution_count": 15,
   "metadata": {},
   "outputs": [
    {
     "data": {
      "image/png": "[encoded data removed]",
      "text/plain": [
       "<Figure size 640x480 with 1 Axes>"
      ]
     },
     "metadata": {},
     "output_type": "display_data"
    },
    {
     "data": {
      "image/png": "[encoded data removed]",
      "text/plain": [
       "<Figure size 640x480 with 1 Axes>"
      ]
     },
     "metadata": {},
     "output_type": "display_data"
    }
   ],
   "source": [
    "# bar plot for continuous columns\n",
    "for col in con_col:\n",
    "    sns.barplot(x = df['y'], y = df[col])\n",
    "    plt.show()"
   ]
  },
  {
   "cell_type": "code",
   "execution_count": 16,
   "metadata": {},
   "outputs": [
    {
     "data": {
      "image/png": "[encoded data removed]",
      "text/plain": [
       "<Figure size 640x480 with 1 Axes>"
      ]
     },
     "metadata": {},
     "output_type": "display_data"
    }
   ],
   "source": [
    "#scatterplot between x3 and y\n",
    "sns.scatterplot(x = df['x3'], y = df['y'])\n",
    "plt.ylabel(\"y\")\n",
    "plt.xlabel(\"x3\")\n",
    "plt.show()"
   ]
  },
  {
   "cell_type": "code",
   "execution_count": 17,
   "metadata": {},
   "outputs": [
    {
     "data": {
      "text/html": [
       "<div>\n",
       "<style scoped>\n",
       "    .dataframe tbody tr th:only-of-type {\n",
       "        vertical-align: middle;\n",
       "    }\n",
       "\n",
       "    .dataframe tbody tr th {\n",
       "        vertical-align: top;\n",
       "    }\n",
       "\n",
       "    .dataframe thead th {\n",
       "        text-align: right;\n",
       "    }\n",
       "</style>\n",
       "<table border=\"1\" class=\"dataframe\">\n",
       "  <thead>\n",
       "    <tr style=\"text-align: right;\">\n",
       "      <th></th>\n",
       "      <th>y</th>\n",
       "      <th>x1</th>\n",
       "      <th>x2</th>\n",
       "      <th>x3</th>\n",
       "    </tr>\n",
       "  </thead>\n",
       "  <tbody>\n",
       "    <tr>\n",
       "      <th>0</th>\n",
       "      <td>1</td>\n",
       "      <td>20.83</td>\n",
       "      <td>6.80</td>\n",
       "      <td>40</td>\n",
       "    </tr>\n",
       "    <tr>\n",
       "      <th>1</th>\n",
       "      <td>1</td>\n",
       "      <td>22.05</td>\n",
       "      <td>2.26</td>\n",
       "      <td>40</td>\n",
       "    </tr>\n",
       "    <tr>\n",
       "      <th>2</th>\n",
       "      <td>0</td>\n",
       "      <td>14.33</td>\n",
       "      <td>2.27</td>\n",
       "      <td>30</td>\n",
       "    </tr>\n",
       "    <tr>\n",
       "      <th>3</th>\n",
       "      <td>1</td>\n",
       "      <td>22.80</td>\n",
       "      <td>6.96</td>\n",
       "      <td>30</td>\n",
       "    </tr>\n",
       "    <tr>\n",
       "      <th>4</th>\n",
       "      <td>0</td>\n",
       "      <td>10.78</td>\n",
       "      <td>0.39</td>\n",
       "      <td>40</td>\n",
       "    </tr>\n",
       "    <tr>\n",
       "      <th>...</th>\n",
       "      <td>...</td>\n",
       "      <td>...</td>\n",
       "      <td>...</td>\n",
       "      <td>...</td>\n",
       "    </tr>\n",
       "    <tr>\n",
       "      <th>195</th>\n",
       "      <td>0</td>\n",
       "      <td>10.75</td>\n",
       "      <td>4.95</td>\n",
       "      <td>40</td>\n",
       "    </tr>\n",
       "    <tr>\n",
       "      <th>196</th>\n",
       "      <td>1</td>\n",
       "      <td>24.56</td>\n",
       "      <td>1.45</td>\n",
       "      <td>20</td>\n",
       "    </tr>\n",
       "    <tr>\n",
       "      <th>197</th>\n",
       "      <td>1</td>\n",
       "      <td>10.83</td>\n",
       "      <td>9.90</td>\n",
       "      <td>20</td>\n",
       "    </tr>\n",
       "    <tr>\n",
       "      <th>198</th>\n",
       "      <td>1</td>\n",
       "      <td>11.20</td>\n",
       "      <td>8.93</td>\n",
       "      <td>40</td>\n",
       "    </tr>\n",
       "    <tr>\n",
       "      <th>199</th>\n",
       "      <td>0</td>\n",
       "      <td>15.25</td>\n",
       "      <td>3.38</td>\n",
       "      <td>20</td>\n",
       "    </tr>\n",
       "  </tbody>\n",
       "</table>\n",
       "<p>200 rows × 4 columns</p>\n",
       "</div>"
      ],
      "text/plain": [
       "     y     x1    x2  x3\n",
       "0    1  20.83  6.80  40\n",
       "1    1  22.05  2.26  40\n",
       "2    0  14.33  2.27  30\n",
       "3    1  22.80  6.96  30\n",
       "4    0  10.78  0.39  40\n",
       "..  ..    ...   ...  ..\n",
       "195  0  10.75  4.95  40\n",
       "196  1  24.56  1.45  20\n",
       "197  1  10.83  9.90  20\n",
       "198  1  11.20  8.93  40\n",
       "199  0  15.25  3.38  20\n",
       "\n",
       "[200 rows x 4 columns]"
      ]
     },
     "execution_count": 17,
     "metadata": {},
     "output_type": "execute_result"
    }
   ],
   "source": [
    "df"
   ]
  },
  {
   "cell_type": "code",
   "execution_count": 18,
   "metadata": {},
   "outputs": [
    {
     "data": {
      "text/plain": [
       "<Axes: >"
      ]
     },
     "execution_count": 18,
     "metadata": {},
     "output_type": "execute_result"
    },
    {
     "data": {
      "image/png": "[encoded data removed]",
      "text/plain": [
       "<Figure size 640x480 with 2 Axes>"
      ]
     },
     "metadata": {},
     "output_type": "display_data"
    }
   ],
   "source": [
    "sns.heatmap(df.corr(), annot=True)"
   ]
  },
  {
   "cell_type": "code",
   "execution_count": 19,
   "metadata": {},
   "outputs": [
    {
     "data": {
      "text/plain": [
       "<Axes: xlabel='x', ylabel='y'>"
      ]
     },
     "execution_count": 19,
     "metadata": {},
     "output_type": "execute_result"
    },
    {
     "data": {
      "image/png": "[encoded data removed]",
      "text/plain": [
       "<Figure size 1500x800 with 2 Axes>"
      ]
     },
     "metadata": {},
     "output_type": "display_data"
    }
   ],
   "source": [
    "import ppscore as pps\n",
    "\n",
    "dfcopy = df.copy()\n",
    "\n",
    "matrix_df = pps.matrix(dfcopy)[['x', 'y', 'ppscore']].pivot(columns='x', index='y', values='ppscore')\n",
    "\n",
    "#plot\n",
    "plt.figure(figsize = (15,8))\n",
    "sns.heatmap(matrix_df, vmin=0, vmax=1, cmap=\"Blues\", linewidths=0.5, annot=True)"
   ]
  },
  {
   "cell_type": "code",
   "execution_count": 20,
   "metadata": {},
   "outputs": [
    {
     "name": "stdout",
     "output_type": "stream",
     "text": [
      "1    0.5\n",
      "0    0.5\n",
      "Name: y, dtype: float64\n"
     ]
    }
   ],
   "source": [
    "\n",
    "ratio = df['y'].value_counts(normalize=True)\n",
    "print(ratio)"
   ]
  },
  {
   "cell_type": "markdown",
   "metadata": {},
   "source": [
    "From the correlation matrix, x1,x2,x3 is not correlate to each other.\\\n",
    "From the pps and bar plot of x1 and y, x1 have affect to y because pps score is high and value of x1 in y=0 is lower than value of x1 in y=1\\\n",
    "From the bar plot of x2 and y, x2 have affect to y because value of x2 in y=0 is lower than value of x2 in y=1\n",
    "\n",
    "In couclusion, I select the x1 and x2 is feature and y is label"
   ]
  },
  {
   "cell_type": "markdown",
   "metadata": {},
   "source": [
    "## Task 9 (10)\n",
    "\n",
    "Perform Preprocessing and Data splitting (80:20).\n",
    "\n",
    "Argue your choice. (No explanation, no score.)\n",
    "\n",
    "*<sub>Becareful with the data leakage and imbalance data when split.</sub>*"
   ]
  },
  {
   "cell_type": "code",
   "execution_count": 21,
   "metadata": {},
   "outputs": [],
   "source": [
    "import random"
   ]
  },
  {
   "cell_type": "code",
   "execution_count": 22,
   "metadata": {},
   "outputs": [],
   "source": [
    "#x is our features\n",
    "X = df[        ['x1', 'x2']        ]\n",
    "\n",
    "#y is label\n",
    "y = df[\"y\"]"
   ]
  },
  {
   "cell_type": "code",
   "execution_count": 23,
   "metadata": {},
   "outputs": [],
   "source": [
    "#separate and create the dataframe for the y on class 1 and class 0\n",
    "y_1 = y[df[\"y\"] == 1]\n",
    "y_0 = y[df[\"y\"] == 0]\n",
    "\n",
    "#separate and create the dataframe for the X on class 1 and class 0\n",
    "X_y1 = X[df[\"y\"] == 1]\n",
    "X_y0 = X[df[\"y\"] == 0]\n"
   ]
  },
  {
   "cell_type": "code",
   "execution_count": 24,
   "metadata": {},
   "outputs": [],
   "source": [
    "#split the train and test of y=0 and y=1\n",
    "\n",
    "from sklearn.model_selection import train_test_split\n",
    "\n",
    "X_train_1, X_test_1, y_train_1, y_test_1 = train_test_split(X_y1, y_1, test_size = 0.2, random_state = 42)\n",
    "\n",
    "X_train_0, X_test_0, y_train_0, y_test_0 = train_test_split(X_y0, y_0, test_size = 0.2, random_state = 42)"
   ]
  },
  {
   "cell_type": "code",
   "execution_count": 25,
   "metadata": {},
   "outputs": [],
   "source": [
    "# add 2 train set in 1 set\n",
    "\n",
    "X_train = pd.concat([X_train_1, X_train_0])\n",
    "X_test = pd.concat([X_test_1, X_test_0])\n",
    "y_train = pd.concat([y_train_1, y_train_0])\n",
    "y_test = pd.concat([y_test_1, y_test_0])\n"
   ]
  },
  {
   "cell_type": "code",
   "execution_count": 26,
   "metadata": {},
   "outputs": [],
   "source": [
    "# #shuffle the training and test set to let the model remember the pattern  \n",
    "\n",
    "X_train = X_train.sample(frac=1, random_state=42)\n",
    "X_test = X_test.sample(frac=1, random_state=42)\n",
    "y_train = y_train.sample(frac=1, random_state=42)\n",
    "y_train = y_train.sample(frac=1, random_state=42)\n"
   ]
  },
  {
   "cell_type": "code",
   "execution_count": 27,
   "metadata": {},
   "outputs": [
    {
     "data": {
      "text/plain": [
       "x1    0\n",
       "x2    0\n",
       "dtype: int64"
      ]
     },
     "execution_count": 27,
     "metadata": {},
     "output_type": "execute_result"
    }
   ],
   "source": [
    "#check null value in X_train\n",
    "X_train.isna().sum()"
   ]
  },
  {
   "cell_type": "code",
   "execution_count": 28,
   "metadata": {},
   "outputs": [
    {
     "data": {
      "text/plain": [
       "x1    0\n",
       "x2    0\n",
       "dtype: int64"
      ]
     },
     "execution_count": 28,
     "metadata": {},
     "output_type": "execute_result"
    }
   ],
   "source": [
    "#check null value in X_test\n",
    "X_test.isna().sum()"
   ]
  },
  {
   "cell_type": "code",
   "execution_count": 29,
   "metadata": {},
   "outputs": [
    {
     "data": {
      "text/plain": [
       "0"
      ]
     },
     "execution_count": 29,
     "metadata": {},
     "output_type": "execute_result"
    }
   ],
   "source": [
    "#check null value in y_train\n",
    "y_train.isna().sum()"
   ]
  },
  {
   "cell_type": "code",
   "execution_count": 30,
   "metadata": {},
   "outputs": [
    {
     "data": {
      "text/plain": [
       "0"
      ]
     },
     "execution_count": 30,
     "metadata": {},
     "output_type": "execute_result"
    }
   ],
   "source": [
    "#check null value in y_test\n",
    "y_test.isna().sum()"
   ]
  },
  {
   "cell_type": "code",
   "execution_count": 31,
   "metadata": {},
   "outputs": [
    {
     "name": "stdout",
     "output_type": "stream",
     "text": [
      "0    0.5\n",
      "1    0.5\n",
      "Name: y, dtype: float64\n"
     ]
    }
   ],
   "source": [
    "#check the imbalance between 2 class on y_train\n",
    "ratio = y_train.value_counts(normalize=True)\n",
    "print(ratio)"
   ]
  },
  {
   "cell_type": "code",
   "execution_count": 32,
   "metadata": {},
   "outputs": [],
   "source": [
    "from sklearn.preprocessing import StandardScaler\n",
    "\n",
    "# Scale only numeric column\n",
    "scaler = StandardScaler()\n",
    "X_train = scaler.fit_transform(X_train)\n",
    "X_test  = scaler.transform(X_test)\n"
   ]
  },
  {
   "cell_type": "code",
   "execution_count": 33,
   "metadata": {},
   "outputs": [
    {
     "data": {
      "text/plain": [
       "array([[ 6.56522912e-01,  1.60898566e+00],\n",
       "       [-7.66968617e-01, -1.01913926e+00],\n",
       "       [-2.86910927e-01,  3.28790789e-01],\n",
       "       [-1.50837045e+00,  5.69250672e-01],\n",
       "       [ 7.41784123e-01,  1.57850483e+00],\n",
       "       [-7.72529130e-01,  5.55703637e-01],\n",
       "       [ 5.94279910e-03, -7.31264752e-01],\n",
       "       [-1.23219827e+00,  7.13971114e-02],\n",
       "       [ 7.56612160e-01, -6.29661985e-01],\n",
       "       [-8.00331699e-01,  1.66994732e+00],\n",
       "       [-9.39344544e-01,  3.96525968e-01],\n",
       "       [-7.35459038e-01, -7.88839654e-01],\n",
       "       [-1.54173354e+00, -1.36120191e+00],\n",
       "       [-1.36379710e+00, -2.80825816e-01],\n",
       "       [-9.87535663e-01, -7.17717717e-01],\n",
       "       [ 8.49287389e-01,  2.39824866e-02],\n",
       "       [-2.64668872e-01, -7.54972065e-01],\n",
       "       [ 2.11681809e-01,  5.11675771e-01],\n",
       "       [-5.83471662e-01, -9.85271671e-01],\n",
       "       [ 1.64073385e+00, -1.05300685e+00],\n",
       "       [ 9.99421261e-01, -3.35924150e-02],\n",
       "       [ 1.59254273e+00, -3.04533128e-01],\n",
       "       [ 1.38309671e+00,  1.48706234e+00],\n",
       "       [-1.51578447e+00, -1.70326456e+00],\n",
       "       [-1.37306462e+00,  7.38588618e-01],\n",
       "       [ 1.93146763e-01, -7.76202810e-02],\n",
       "       [-7.03949460e-01, -3.35924150e-02],\n",
       "       [ 1.55361914e+00, -1.18261388e-01],\n",
       "       [-8.72618378e-01, -4.70484315e-01],\n",
       "       [-1.66433128e-01, -1.46619144e+00],\n",
       "       [-8.41108800e-01, -1.12751555e+00],\n",
       "       [ 1.46094391e+00, -6.05954672e-01],\n",
       "       [ 9.41962619e-01, -9.34470287e-01],\n",
       "       [ 1.63490690e-01,  5.78500758e-02],\n",
       "       [-1.36565060e+00,  9.28247118e-01],\n",
       "       [ 6.21306324e-01,  8.26644350e-01],\n",
       "       [-1.25444032e+00, -1.65923670e+00],\n",
       "       [ 1.68892497e+00, -1.44925764e+00],\n",
       "       [ 1.60737077e+00,  8.36804627e-01],\n",
       "       [-7.55847589e-01,  1.27708329e+00],\n",
       "       [ 1.39607124e+00,  1.50399613e+00],\n",
       "       [ 4.34102360e-01,  1.52092993e+00],\n",
       "       [ 4.24834837e-01,  7.86003243e-01],\n",
       "       [ 4.98975021e-01, -7.58358824e-01],\n",
       "       [ 6.84325480e-01,  1.03662340e+00],\n",
       "       [ 1.32378457e+00, -1.56102069e+00],\n",
       "       [-2.07210229e-01, -6.40732453e-02],\n",
       "       [-1.53988003e+00,  9.84911828e-02],\n",
       "       [-5.87178671e-01, -1.41877681e+00],\n",
       "       [ 1.26076541e+00,  6.53919645e-01],\n",
       "       [-1.04870131e+00,  1.39223309e+00],\n",
       "       [-9.37491039e-01, -7.58358824e-01],\n",
       "       [ 1.52025605e+00,  1.50060937e+00],\n",
       "       [-4.74114891e-01,  5.89571226e-01],\n",
       "       [ 1.16809018e+00,  1.40578013e+00],\n",
       "       [-9.98656691e-01,  1.66994732e+00],\n",
       "       [-1.34526205e+00, -8.43937988e-02],\n",
       "       [-7.31752029e-01,  6.77626958e-01],\n",
       "       [ 5.86089737e-01,  1.37529929e+00],\n",
       "       [-8.89299920e-01,  1.32111115e+00],\n",
       "       [-8.42962305e-01, -7.95613172e-01],\n",
       "       [ 4.41516379e-01,  1.09758506e+00],\n",
       "       [ 1.72228805e+00, -1.31808424e-01],\n",
       "       [-6.92828433e-01, -1.26637266e+00],\n",
       "       [-7.87357167e-01,  1.25585254e-01],\n",
       "       [-8.02185204e-01, -5.89020878e-01],\n",
       "       [ 1.50542802e+00,  9.85822019e-01],\n",
       "       [-7.02095956e-01,  3.72818655e-01],\n",
       "       [-5.64936616e-01, -1.43232385e+00],\n",
       "       [ 1.57956820e+00,  1.02984989e+00],\n",
       "       [ 3.85911241e-01,  6.53919645e-01],\n",
       "       [ 2.63579938e-01,  7.72456208e-01],\n",
       "       [ 1.12175256e+00, -9.37857046e-01],\n",
       "       [ 8.32605848e-01,  1.26692301e+00],\n",
       "       [-4.74114891e-01, -7.78679377e-01],\n",
       "       [-1.09318543e+00, -6.97397163e-01],\n",
       "       [-9.44905058e-01, -5.14512181e-01],\n",
       "       [-1.47121927e-03, -1.25282563e+00],\n",
       "       [ 1.65370838e+00, -1.22234480e+00],\n",
       "       [ 1.53137708e+00,  1.43964771e+00],\n",
       "       [ 3.93325259e-01, -1.38490922e+00],\n",
       "       [-1.13025552e+00, -6.09341431e-01],\n",
       "       [-8.11452727e-01,  6.91173993e-01],\n",
       "       [-2.47987330e-01, -9.07376216e-01],\n",
       "       [-9.69000617e-01, -1.52037958e+00],\n",
       "       [-3.40662560e-01, -2.67278780e-01],\n",
       "       [-9.72707626e-01, -2.68188972e-02],\n",
       "       [ 1.33119858e+00, -8.05773448e-01],\n",
       "       [-6.31662781e-01, -8.26094002e-01],\n",
       "       [ 1.22554882e+00,  1.07387775e+00],\n",
       "       [-1.23219827e+00,  7.58909172e-01],\n",
       "       [ 7.95535756e-01,  7.79229725e-01],\n",
       "       [ 4.54490911e-01, -1.56779420e+00],\n",
       "       [ 5.91650251e-01, -6.66916333e-01],\n",
       "       [ 6.08331792e-01, -2.19864156e-01],\n",
       "       [-1.43237677e+00,  1.38207281e+00],\n",
       "       [ 6.95446508e-01,  2.74602647e-01],\n",
       "       [-2.00062652e-02,  4.91355217e-01],\n",
       "       [ 8.69675940e-01, -1.19863748e+00],\n",
       "       [ 1.63146633e+00,  9.95982296e-01],\n",
       "       [-1.49168891e+00,  9.75661743e-01],\n",
       "       [ 5.99064269e-01,  2.00093950e-01],\n",
       "       [-5.20452506e-01,  1.23305542e+00],\n",
       "       [ 1.58698222e+00, -1.21218452e+00],\n",
       "       [-1.03201977e+00, -9.10762975e-01],\n",
       "       [-1.09874594e+00,  1.18902755e+00],\n",
       "       [-1.33599453e+00, -9.44630564e-01],\n",
       "       [ 1.60551726e+00,  8.06323797e-01],\n",
       "       [ 9.01185518e-01, -2.68188972e-02],\n",
       "       [-7.03949460e-01,  1.62839602e-01],\n",
       "       [-1.00607071e+00,  2.23801263e-01],\n",
       "       [ 8.32605848e-01,  1.26014949e+00],\n",
       "       [ 3.04357039e-01, -1.54070013e+00],\n",
       "       [ 2.95089516e-01, -1.44248413e+00],\n",
       "       [-5.61229607e-01,  2.98309959e-01],\n",
       "       [ 2.32070360e-01,  2.30574781e-01],\n",
       "       [-9.67147113e-01, -1.57118096e+00],\n",
       "       [-9.07834966e-01,  8.43578145e-01],\n",
       "       [ 6.82471976e-01, -1.55763393e+00],\n",
       "       [-1.00607071e+00, -1.58902495e-01],\n",
       "       [ 4.58197920e-01,  1.66226361e-01],\n",
       "       [-6.65025864e-01, -7.65132341e-01],\n",
       "       [ 1.07541495e+00,  1.31772439e+00],\n",
       "       [-1.20095513e-01,  1.17886728e+00],\n",
       "       [-1.26000084e+00,  1.53447696e+00],\n",
       "       [ 1.15511565e+00, -2.77439057e-01],\n",
       "       [ 1.68707147e+00,  9.65501466e-01],\n",
       "       [ 1.55547264e+00, -3.95975619e-01],\n",
       "       [ 5.54580159e-01, -9.64951118e-01],\n",
       "       [ 3.80350727e-01, -1.39506950e+00],\n",
       "       [-1.37677163e+00, -5.75473842e-01],\n",
       "       [-9.57879590e-01,  1.64962677e+00],\n",
       "       [ 4.37809369e-01, -2.84212575e-01],\n",
       "       [-1.10615996e+00, -3.51947753e-01],\n",
       "       [ 1.44955644e-01,  1.18564080e+00],\n",
       "       [ 1.64073385e+00, -1.35104163e+00],\n",
       "       [ 1.76306515e+00,  4.94741976e-01],\n",
       "       [-4.22216762e-01,  1.09419830e+00],\n",
       "       [ 1.54435161e+00, -1.64230290e+00],\n",
       "       [ 1.54620512e+00,  1.12038218e-01],\n",
       "       [-7.61408103e-01,  1.28047005e+00],\n",
       "       [-4.33337790e-01,  1.14838645e+00],\n",
       "       [-1.31745948e+00,  7.01334270e-01],\n",
       "       [ 1.89439754e-01,  5.86184467e-01],\n",
       "       [-1.43423027e+00,  9.01153046e-01],\n",
       "       [-1.26556135e+00, -1.32394756e+00],\n",
       "       [-1.31216541e-01, -1.19863748e+00],\n",
       "       [ 8.86357481e-01,  1.13822617e+00],\n",
       "       [ 1.41248634e-01,  1.38884633e+00],\n",
       "       [ 6.58376416e-01, -4.50163762e-01],\n",
       "       [-2.59108358e-01, -1.57118096e+00],\n",
       "       [-1.37121111e+00, -1.04284657e+00],\n",
       "       [-1.38630559e-01, -5.58540047e-01],\n",
       "       [-1.86821679e-01, -1.29007997e+00],\n",
       "       [ 1.17179719e+00,  1.62591945e+00],\n",
       "       [-1.31375247e+00,  4.03299485e-01],\n",
       "       [-6.72439882e-01, -4.71394507e-02],\n",
       "       [-7.81796653e-01, -1.67278373e+00],\n",
       "       [ 5.23070581e-01, -1.85996566e-01],\n",
       "       [ 1.39395130e-01, -2.06317120e-01]])"
      ]
     },
     "execution_count": 33,
     "metadata": {},
     "output_type": "execute_result"
    }
   ],
   "source": [
    "X_train"
   ]
  },
  {
   "cell_type": "code",
   "execution_count": 34,
   "metadata": {},
   "outputs": [
    {
     "data": {
      "text/plain": [
       "128    0\n",
       "81     1\n",
       "194    0\n",
       "41     1\n",
       "148    0\n",
       "      ..\n",
       "7      0\n",
       "24     1\n",
       "46     1\n",
       "129    0\n",
       "114    0\n",
       "Name: y, Length: 160, dtype: int64"
      ]
     },
     "execution_count": 34,
     "metadata": {},
     "output_type": "execute_result"
    }
   ],
   "source": [
    "y_train"
   ]
  },
  {
   "cell_type": "markdown",
   "metadata": {},
   "source": [
    "## Task 10 (10)\n",
    "\n",
    "Perform model selection to find the best model that suited this dataset.\n",
    "\n",
    "To save you from insanity, you don't need to perform `GridSearch`.\n",
    "\n",
    "Validate the result using accuracy, precision-recall, f1-score, and confusion matrix.\n",
    "\n",
    "Explain the result."
   ]
  },
  {
   "cell_type": "code",
   "execution_count": 35,
   "metadata": {},
   "outputs": [],
   "source": [
    "# Model to train. You can add more if you want.\n",
    "from sklearn.linear_model import LogisticRegression\n",
    "from sklearn.naive_bayes import GaussianNB\n",
    "from sklearn.svm import SVC\n",
    "from sklearn.ensemble import RandomForestClassifier"
   ]
  },
  {
   "cell_type": "code",
   "execution_count": 36,
   "metadata": {},
   "outputs": [
    {
     "name": "stdout",
     "output_type": "stream",
     "text": [
      "Scores:  [0.5625  0.40625 0.34375 0.3125  0.5    ] - Scores mean:  0.425 - Scores std (lower better):  0.09395810236483068\n",
      "Scores:  [0.46875 0.5625  0.5     0.5625  0.5625 ] - Scores mean:  0.53125 - Scores std (lower better):  0.03952847075210474\n",
      "Scores:  [0.5625  0.375   0.375   0.375   0.46875] - Scores mean:  0.43125 - Scores std (lower better):  0.075\n",
      "Scores:  [0.71875 0.46875 0.46875 0.34375 0.5    ] - Scores mean:  0.5 - Scores std (lower better):  0.12183492931011204\n"
     ]
    }
   ],
   "source": [
    "# define the model\n",
    "lr = LogisticRegression(random_state=999)\n",
    "rf = RandomForestClassifier(random_state=999)\n",
    "sv = SVC(random_state=999)\n",
    "gnb = GaussianNB ()\n",
    "\n",
    "#model list\n",
    "models = [lr, rf, sv, gnb]\n",
    "\n",
    "from sklearn.model_selection import KFold, cross_val_score\n",
    "\n",
    "#assign the Kfold is 5\n",
    "kfold = KFold(n_splits = 5, shuffle = True, random_state=999)\n",
    "\n",
    "#validate the model\n",
    "for model in models:\n",
    "    score = cross_val_score(model, X_train, y_train, cv=kfold, scoring='accuracy')  #f1, recall, precision, accuracy\n",
    "    print(\"Scores: \", score, \"- Scores mean: \", score.mean(), \"- Scores std (lower better): \", score.std())  #out of 1 ; 1 means perfect accuracy"
   ]
  },
  {
   "cell_type": "markdown",
   "metadata": {},
   "source": [
    "As a result, the Random Forest Classifieris the best model"
   ]
  },
  {
   "cell_type": "code",
   "execution_count": 37,
   "metadata": {},
   "outputs": [
    {
     "data": {
      "text/html": [
       "<style>#sk-container-id-1 {color: black;}#sk-container-id-1 pre{padding: 0;}#sk-container-id-1 div.sk-toggleable {background-color: white;}#sk-container-id-1 label.sk-toggleable__label {cursor: pointer;display: block;width: 100%;margin-bottom: 0;padding: 0.3em;box-sizing: border-box;text-align: center;}#sk-container-id-1 label.sk-toggleable__label-arrow:before {content: \"▸\";float: left;margin-right: 0.25em;color: #696969;}#sk-container-id-1 label.sk-toggleable__label-arrow:hover:before {color: black;}#sk-container-id-1 div.sk-estimator:hover label.sk-toggleable__label-arrow:before {color: black;}#sk-container-id-1 div.sk-toggleable__content {max-height: 0;max-width: 0;overflow: hidden;text-align: left;background-color: #f0f8ff;}#sk-container-id-1 div.sk-toggleable__content pre {margin: 0.2em;color: black;border-radius: 0.25em;background-color: #f0f8ff;}#sk-container-id-1 input.sk-toggleable__control:checked~div.sk-toggleable__content {max-height: 200px;max-width: 100%;overflow: auto;}#sk-container-id-1 input.sk-toggleable__control:checked~label.sk-toggleable__label-arrow:before {content: \"▾\";}#sk-container-id-1 div.sk-estimator input.sk-toggleable__control:checked~label.sk-toggleable__label {background-color: #d4ebff;}#sk-container-id-1 div.sk-label input.sk-toggleable__control:checked~label.sk-toggleable__label {background-color: #d4ebff;}#sk-container-id-1 input.sk-hidden--visually {border: 0;clip: rect(1px 1px 1px 1px);clip: rect(1px, 1px, 1px, 1px);height: 1px;margin: -1px;overflow: hidden;padding: 0;position: absolute;width: 1px;}#sk-container-id-1 div.sk-estimator {font-family: monospace;background-color: #f0f8ff;border: 1px dotted black;border-radius: 0.25em;box-sizing: border-box;margin-bottom: 0.5em;}#sk-container-id-1 div.sk-estimator:hover {background-color: #d4ebff;}#sk-container-id-1 div.sk-parallel-item::after {content: \"\";width: 100%;border-bottom: 1px solid gray;flex-grow: 1;}#sk-container-id-1 div.sk-label:hover label.sk-toggleable__label {background-color: #d4ebff;}#sk-container-id-1 div.sk-serial::before {content: \"\";position: absolute;border-left: 1px solid gray;box-sizing: border-box;top: 0;bottom: 0;left: 50%;z-index: 0;}#sk-container-id-1 div.sk-serial {display: flex;flex-direction: column;align-items: center;background-color: white;padding-right: 0.2em;padding-left: 0.2em;position: relative;}#sk-container-id-1 div.sk-item {position: relative;z-index: 1;}#sk-container-id-1 div.sk-parallel {display: flex;align-items: stretch;justify-content: center;background-color: white;position: relative;}#sk-container-id-1 div.sk-item::before, #sk-container-id-1 div.sk-parallel-item::before {content: \"\";position: absolute;border-left: 1px solid gray;box-sizing: border-box;top: 0;bottom: 0;left: 50%;z-index: -1;}#sk-container-id-1 div.sk-parallel-item {display: flex;flex-direction: column;z-index: 1;position: relative;background-color: white;}#sk-container-id-1 div.sk-parallel-item:first-child::after {align-self: flex-end;width: 50%;}#sk-container-id-1 div.sk-parallel-item:last-child::after {align-self: flex-start;width: 50%;}#sk-container-id-1 div.sk-parallel-item:only-child::after {width: 0;}#sk-container-id-1 div.sk-dashed-wrapped {border: 1px dashed gray;margin: 0 0.4em 0.5em 0.4em;box-sizing: border-box;padding-bottom: 0.4em;background-color: white;}#sk-container-id-1 div.sk-label label {font-family: monospace;font-weight: bold;display: inline-block;line-height: 1.2em;}#sk-container-id-1 div.sk-label-container {text-align: center;}#sk-container-id-1 div.sk-container {/* jupyter's `normalize.less` sets `[hidden] { display: none; }` but bootstrap.min.css set `[hidden] { display: none !important; }` so we also need the `!important` here to be able to override the default hidden behavior on the sphinx rendered scikit-learn.org. See: https://github.com/scikit-learn/scikit-learn/issues/21755 */display: inline-block !important;position: relative;}#sk-container-id-1 div.sk-text-repr-fallback {display: none;}</style><div id=\"sk-container-id-1\" class=\"sk-top-container\"><div class=\"sk-text-repr-fallback\"><pre>RandomForestClassifier(random_state=999)</pre><b>In a Jupyter environment, please rerun this cell to show the HTML representation or trust the notebook. <br />On GitHub, the HTML representation is unable to render, please try loading this page with nbviewer.org.</b></div><div class=\"sk-container\" hidden><div class=\"sk-item\"><div class=\"sk-estimator sk-toggleable\"><input class=\"sk-toggleable__control sk-hidden--visually\" id=\"sk-estimator-id-1\" type=\"checkbox\" checked><label for=\"sk-estimator-id-1\" class=\"sk-toggleable__label sk-toggleable__label-arrow\">RandomForestClassifier</label><div class=\"sk-toggleable__content\"><pre>RandomForestClassifier(random_state=999)</pre></div></div></div></div></div>"
      ],
      "text/plain": [
       "RandomForestClassifier(random_state=999)"
      ]
     },
     "execution_count": 37,
     "metadata": {},
     "output_type": "execute_result"
    }
   ],
   "source": [
    "model = RandomForestClassifier(random_state=999)\n",
    "model.fit(X_train, y_train)"
   ]
  },
  {
   "cell_type": "code",
   "execution_count": 38,
   "metadata": {},
   "outputs": [
    {
     "data": {
      "text/plain": [
       "array([1, 0, 0, 0, 1, 0, 1, 1, 1, 1, 0, 0, 0, 1, 1, 0, 0, 0, 0, 1, 1, 0,\n",
       "       0, 0, 0, 1, 1, 0, 0, 1, 1, 0, 1, 0, 1, 0, 0, 0, 0, 0])"
      ]
     },
     "execution_count": 38,
     "metadata": {},
     "output_type": "execute_result"
    }
   ],
   "source": [
    "ypred = model.predict(X_test)\n",
    "ypred"
   ]
  },
  {
   "cell_type": "code",
   "execution_count": 39,
   "metadata": {},
   "outputs": [
    {
     "name": "stdout",
     "output_type": "stream",
     "text": [
      "Accuracy: 0.55\n",
      "Precision: 0.5625\n",
      "Recall: 0.45\n",
      "f1-score: 0.5\n",
      "              precision    recall  f1-score   support\n",
      "\n",
      "           0       0.54      0.65      0.59        20\n",
      "           1       0.56      0.45      0.50        20\n",
      "\n",
      "    accuracy                           0.55        40\n",
      "   macro avg       0.55      0.55      0.55        40\n",
      "weighted avg       0.55      0.55      0.55        40\n",
      "\n"
     ]
    },
    {
     "data": {
      "text/plain": [
       "<sklearn.metrics._plot.confusion_matrix.ConfusionMatrixDisplay at 0x7fca467b9390>"
      ]
     },
     "execution_count": 39,
     "metadata": {},
     "output_type": "execute_result"
    },
    {
     "data": {
      "image/png": "[encoded data removed]",
      "text/plain": [
       "<Figure size 640x480 with 2 Axes>"
      ]
     },
     "metadata": {},
     "output_type": "display_data"
    }
   ],
   "source": [
    "from sklearn.metrics import accuracy_score, precision_score, recall_score, f1_score\n",
    "\n",
    "#if you want all in one table\n",
    "from sklearn.metrics import classification_report\n",
    "\n",
    "#if you want the confusion matrix\n",
    "from sklearn.metrics import confusion_matrix, ConfusionMatrixDisplay\n",
    "\n",
    "# accuracy, precision-recall, f1-score\n",
    "print(\"Accuracy:\",accuracy_score(y_test, ypred))\n",
    "print(\"Precision:\",precision_score(y_test, ypred))\n",
    "print(\"Recall:\", recall_score(y_test, ypred))\n",
    "print(\"f1-score:\",f1_score(y_test, ypred))\n",
    "\n",
    "print(classification_report(y_test, ypred))\n",
    "\n",
    "cm = confusion_matrix(y_test, ypred)\n",
    "cmp = ConfusionMatrixDisplay(cm, display_labels=[0, 1])\n",
    "\n",
    "cmp.plot()"
   ]
  },
  {
   "cell_type": "markdown",
   "metadata": {},
   "source": [
    "In cross-validation, I can conclude that Random Forest is the best model for this dataset based on accuracy but On test set, the model is not good that you can see on accuracy, precision-recall, f1-score of the model. I think the model is underfitting because the accuracy on test and validation is close. Moreover, dataset may be bad."
   ]
  },
  {
   "cell_type": "markdown",
   "metadata": {},
   "source": [
    "## Last Task (5)\n",
    "\n",
    "- Export the file to PDF (4)\n",
    "- Name the PDF using this format `<st12xxxx>-midterm.pdf` (1).\n",
    "- Submit the PDF to the Moodle platform.\n",
    "\n"
   ]
  },
  {
   "cell_type": "markdown",
   "metadata": {},
   "source": []
  }
 ],
 "metadata": {
  "kernelspec": {
   "display_name": "Python 3 (ipykernel)",
   "language": "python",
   "name": "python3"
  },
  "language_info": {
   "codemirror_mode": {
    "name": "ipython",
    "version": 3
   },
   "file_extension": ".py",
   "mimetype": "text/x-python",
   "name": "python",
   "nbconvert_exporter": "python",
   "pygments_lexer": "ipython3",
   "version": "3.11.3"
  }
 },
 "nbformat": 4,
 "nbformat_minor": 2
}
